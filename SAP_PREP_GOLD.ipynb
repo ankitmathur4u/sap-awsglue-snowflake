{
 "cells": [
  {
   "cell_type": "markdown",
   "id": "3b77b7ac-3e50-462a-927a-61e9f6d656d9",
   "metadata": {
    "collapsed": false,
    "name": "cell17"
   },
   "source": [
    "# Snowflake Cortex AI - Transforming & Semantic Model Generation\n",
    "\n",
    "This notebook shows how you can use Large Language Models to help you transforming from raw, bronze to gold layer. You can then generate a semantic model in a separate quickstart where users can ask questions using natural language. The bronze layer will have tables with column names that meaningful to Analyst. The Gold Layer will have the views that will be used by Cortex Analyst, Snowflake text-2-sql capability. "
   ]
  },
  {
   "cell_type": "code",
   "execution_count": null,
   "id": "3775908f-ca36-4846-8f38-5adca39217f2",
   "metadata": {
    "language": "python",
    "name": "imports"
   },
   "outputs": [],
   "source": [
    "# Import python packages\n",
    "import streamlit as st\n",
    "\n",
    "# We can also use Snowpark for our analyses!\n",
    "from snowflake.snowpark.context import get_active_session\n",
    "session = get_active_session()\n",
    "session"
   ]
  },
  {
   "cell_type": "markdown",
   "id": "c555cbef-c78e-4f99-9061-90518e105534",
   "metadata": {
    "collapsed": false,
    "name": "variables_md"
   },
   "source": [
    "Change this definition in case you want to use other names or LLMs. Note this has been tested using the Anthropic model claude-3-5-sonnet. For LLM Region availability check: https://docs.snowflake.com/en/user-guide/snowflake-cortex/llm-functions or enable Cross-Region Support."
   ]
  },
  {
   "cell_type": "code",
   "execution_count": null,
   "id": "62f0b949-d8f9-4a3d-a517-f361026eb030",
   "metadata": {
    "language": "python",
    "name": "variables"
   },
   "outputs": [],
   "source": [
    "LLM = 'claude-3-5-sonnet'\n",
    "RAW_LAYER = 'SAP_RAW'\n",
    "BRONZE_LAYER = 'SAP_BRONZE'\n",
    "GOLD_LAYER = 'SAP_GOLD'"
   ]
  },
  {
   "cell_type": "markdown",
   "id": "b49b2ca9-7e67-4787-9d8d-7698ec1c4028",
   "metadata": {
    "collapsed": false,
    "name": "setup_1_md"
   },
   "source": [
    "Note this Notebook is expected to run in a test database and it will create a clean environment. This is replacing the BRONZE_LAYER schema in case it exists!!"
   ]
  },
  {
   "cell_type": "code",
   "execution_count": null,
   "id": "8d50cbf4-0c8d-4950-86cb-114990437ac9",
   "metadata": {
    "language": "python",
    "name": "setup_1"
   },
   "outputs": [],
   "source": [
    "session.sql(f'create or replace schema {BRONZE_LAYER}').collect()"
   ]
  },
  {
   "cell_type": "markdown",
   "id": "9b06e606-ec6a-479e-981f-a01d12ceeb79",
   "metadata": {
    "collapsed": false,
    "name": "bronze_generate_md"
   },
   "source": [
    "### Asking LLM how to generate new tables in BRONZE layer and copy from RAW\n",
    "\n",
    "Let's use the power of LLMs to translate column names into something meaningful for analyst and provide the SQL to crate new tables and copy the content from RAW ones. This will take a few minutes"
   ]
  },
  {
   "cell_type": "code",
   "execution_count": null,
   "id": "901d0dde-3289-471d-9b2b-7d18a42d74c4",
   "metadata": {
    "codeCollapsed": false,
    "collapsed": false,
    "language": "python",
    "name": "bronze_generate"
   },
   "outputs": [],
   "source": [
    "import re\n",
    "\n",
    "table_names = [\"FI_AR_4\", \"CUSTOMER\", \"MATERIAL\"]\n",
    "\n",
    "results = {}\n",
    "\n",
    "for table in table_names:\n",
    "    \n",
    "    sql_text1 = f\"\"\"\n",
    "    select snowflake.cortex.complete('{LLM}', '\n",
    "    Generate a new SQL CREATE OR REPLACE table statement which will replace all \n",
    "    the below column names by easy and clear to understand column names for a \n",
    "    data analyst. Generate the SQL to copy the data from the source table to the\n",
    "    target table respecting the column names. \n",
    "    The data types should be kept the same. Source schema is called {RAW_LAYER}. \n",
    "    Target schema is called {BRONZE_LAYER}. \n",
    "    It should in run Snowflake.'  \n",
    "    || GET_DDL('table','{RAW_LAYER}.\"{table}\"') );\n",
    "    \"\"\"\n",
    "\n",
    "    full_text_str = session.sql(sql_text1).collect()[0][0]\n",
    "\n",
    "    # Extract content between ```sql and ```\n",
    "    match = re.search(r\"```sql(.*?)```\", full_text_str, re.DOTALL)\n",
    "    if match:\n",
    "        extracted_sql = match.group(1).strip()\n",
    "        extracted_sql = extracted_sql.replace('\"', '\\\"')  # Double double-quotes for SQL safety\n",
    "\n",
    "    else:\n",
    "        extracted_sql = '\"\"\" \"\"\"'\n",
    "        \n",
    "    results[table] = {\n",
    "        \"table_name\": table,\n",
    "        \"full_output\": full_text_str,\n",
    "        \"extracted_sql\": extracted_sql\n",
    "    }"
   ]
  },
  {
   "cell_type": "code",
   "execution_count": null,
   "id": "01fb8494-e331-4447-89c8-d8d2fa7ea734",
   "metadata": {
    "language": "python",
    "name": "bronze_show"
   },
   "outputs": [],
   "source": [
    "# Visualize the results before executing. Click on each expander to review.\n",
    "for table, data in results.items():\n",
    "    with st.expander(f\"Full Output for Table: {data['table_name']}\"):\n",
    "        st.subheader(\"Full Output:\")\n",
    "        st.code(data[\"full_output\"], language=\"sql\")\n",
    "\n",
    "    with st.expander(f\"SQL for Table: {data['table_name']}\"):\n",
    "        st.subheader(\"Extracted SQL:\")\n",
    "        st.code(data[\"extracted_sql\"], language=\"sql\")"
   ]
  },
  {
   "cell_type": "markdown",
   "id": "f9bf96f9-c0cd-45ce-8d2b-667c9ce385d7",
   "metadata": {
    "collapsed": false,
    "name": "bronze_create_md"
   },
   "source": [
    "If you are ok with the output, run next cell to extract the SQL provided to CREATE the new table and the one to INSERT the data:"
   ]
  },
  {
   "cell_type": "code",
   "execution_count": null,
   "id": "96fdc130-9e24-4624-833c-1ed4c655add0",
   "metadata": {
    "language": "python",
    "name": "bronze_create"
   },
   "outputs": [],
   "source": [
    "import re\n",
    "\n",
    "create_sql_statements = \"\"\n",
    "\n",
    "for table, data in results.items():\n",
    "    extracted_sql = data[\"extracted_sql\"]\n",
    "\n",
    "    # Updated regex to ensure we capture full CREATE and INSERT statements ending in ');'\n",
    "    sql_statements = re.split(r';\\s*\\n', extracted_sql.strip())\n",
    "    \n",
    "    # Extracting the CREATE TABLE and INSERT statements\n",
    "    create_table_sql = sql_statements[0] + \";\"\n",
    "    insert_sql = sql_statements[1] + \";\"\n",
    "    \n",
    "    print(f\"CREATING TABLE: {table}\")\n",
    "    session.sql(create_table_sql).collect()\n",
    "    create_sql_statements += create_table_sql\n",
    "    \n",
    "    print(f\"INSERT INTO TABLE {table}:\")\n",
    "    session.sql(insert_sql).collect()"
   ]
  },
  {
   "cell_type": "code",
   "execution_count": null,
   "id": "b64f9a7e-69f9-4bc9-8636-64c2474e1b56",
   "metadata": {
    "language": "sql",
    "name": "bronze_review"
   },
   "outputs": [],
   "source": [
    "-- One of the advantages of Snowflake Notebooks is that you can combine Python, SQL and Markdown! Let's see what tables we got in this layer:\n",
    "show tables;"
   ]
  },
  {
   "cell_type": "code",
   "execution_count": null,
   "id": "8ec3e9e2-e690-4c00-bffd-535ea60f9a64",
   "metadata": {
    "language": "sql",
    "name": "bronze_review2"
   },
   "outputs": [],
   "source": [
    "table FI_AR_4 limit 5;"
   ]
  },
  {
   "cell_type": "markdown",
   "id": "1fc973f7-62df-4043-ae4a-7bdc042a152a",
   "metadata": {
    "collapsed": false,
    "name": "gold_generate_md"
   },
   "source": [
    "### Generating GOLD Layer\n",
    "\n",
    "Let's use the power of LLMs to create a Data MART with the previous tables. This will contain the most important information joining the 3 tables:\n"
   ]
  },
  {
   "cell_type": "code",
   "execution_count": null,
   "id": "ef6a730b-f5cf-47ce-980d-d9de7405fa29",
   "metadata": {
    "codeCollapsed": false,
    "language": "python",
    "name": "gold_generate"
   },
   "outputs": [],
   "source": [
    "sql_text2 = f\"\"\"\n",
    "select snowflake.cortex.complete('{LLM}', '\n",
    "Generate a single SQL statement which creates a Data mart table called ACCOUNTS_RECEIVABLE_MART selecting 25 most representative columns and joining the key columns properly.\n",
    "It should include a column CUSTOMER_NAME, a posting date and clearing date and other information for each financial document, as well as the information necessary to calculate Days Sales Outstanding per customer \n",
    "Create the new table under {GOLD_LAYER} schema.\n",
    "These are the tables to be used:\n",
    "{create_sql_statements}');\n",
    "\"\"\"\n",
    "\n",
    "full_text_str2 = session.sql(sql_text2).collect()[0][0]\n",
    "\n",
    "# Extract content between ```sql and ```\n",
    "match = re.search(r\"```sql(.*?)```\", full_text_str2, re.DOTALL)\n",
    "if match:\n",
    "    extracted_sql2 = match.group(1).strip()\n",
    "    extracted_sql2 = extracted_sql2.replace('\"', '\\\"')  # Double double-quotes for SQL safety\n",
    "\n",
    "else:\n",
    "    extracted_sql2 = '\"\"\" \"\"\"'"
   ]
  },
  {
   "cell_type": "code",
   "execution_count": null,
   "id": "33af60a6-6491-4199-a019-bdc1e111ffa6",
   "metadata": {
    "language": "python",
    "name": "gold_show"
   },
   "outputs": [],
   "source": [
    "with st.expander(f\"Full Explanation:\"):\n",
    "    st.code(full_text_str2, language=\"sql\")\n",
    "\n",
    "with st.expander(f\"SQL to build Mart:\"):\n",
    "    st.code(extracted_sql2, language=\"sql\")"
   ]
  },
  {
   "cell_type": "code",
   "execution_count": null,
   "id": "19965abd-372b-4703-9842-4b7a2224e318",
   "metadata": {
    "language": "python",
    "name": "gold_create"
   },
   "outputs": [],
   "source": [
    "session.sql('create or replace schema SAP_GOLD').collect()\n",
    "session.sql(extracted_sql2).collect()"
   ]
  },
  {
   "cell_type": "code",
   "execution_count": null,
   "id": "3320ef68-c41a-4438-b148-8f0cbd50b16d",
   "metadata": {
    "codeCollapsed": false,
    "language": "sql",
    "name": "gold_review"
   },
   "outputs": [],
   "source": [
    "table accounts_receivable_mart;"
   ]
  },
  {
   "cell_type": "markdown",
   "id": "4b3755f9-1067-4e91-9220-9bca54e88f69",
   "metadata": {
    "collapsed": false,
    "name": "semantic_search_create_md"
   },
   "source": [
    "### Semantic Model: Cortex Search and Cortex Analyst\n",
    "\n",
    "Using Snowflake Snowsight UI, we are going to create the Semantic Model that will be used by Cortex Analys to allow business users ask questions in natural language.\n",
    "\n",
    "As we have a large number of CUSTOMER_NAME distinct values, and Analyst may want to ask for any of them, we are going to use the integration of Cortex Search and Cortex Analyst. \n",
    "\n",
    "Cortex Search will be enabled on those columns, so Cortex Analyst can retrieval names when needed, without having to provide all possible names in the semantic file."
   ]
  },
  {
   "cell_type": "code",
   "execution_count": null,
   "id": "447fb0c5-6fa0-4af1-9434-8b242d0fcbbd",
   "metadata": {
    "language": "python",
    "name": "semantic_search_create"
   },
   "outputs": [],
   "source": [
    "session.sql(f''' \n",
    "CREATE OR REPLACE CORTEX SEARCH SERVICE {GOLD_LAYER}.CUSTOMER_NAME_SEARCH \n",
    "ON CUSTOMER_NAME \n",
    "WAREHOUSE = COMPUTE_WH  \n",
    "TARGET_LAG = '1 day' \n",
    "EMBEDDING_MODEL = 'snowflake-arctic-embed-l-v2.0' \n",
    "AS (SELECT DISTINCT CUSTOMER_NAME FROM {GOLD_LAYER}.accounts_receivable_mart);\n",
    "''').collect()"
   ]
  },
  {
   "cell_type": "code",
   "execution_count": null,
   "id": "778f6d3d-d460-4074-8ffd-689ddb0a473f",
   "metadata": {
    "language": "python",
    "name": "semantic_questions_generate"
   },
   "outputs": [],
   "source": [
    "extracted_sql3 = extracted_sql2.replace(\"'\", '')  # handle exceptions by removing single quotes\n",
    "\n",
    "sql_text3 = f\"\"\"\n",
    "select snowflake.cortex.complete('{LLM}', ' Provide 5 examples of questions that can be asked to this data mart, with the associated SQL query to answer this question: {extracted_sql3}');\n",
    "\"\"\"\n",
    "\n",
    "full_text_str3 = session.sql(sql_text3).collect()[0][0]"
   ]
  },
  {
   "cell_type": "code",
   "execution_count": null,
   "id": "7f2373b9-2c69-42b7-8a6f-aacb1062e68a",
   "metadata": {
    "language": "python",
    "name": "semantic_questions_show"
   },
   "outputs": [],
   "source": [
    "with st.expander(\"Questions:\"):\n",
    "    st.code(full_text_str3, language=\"sql\")"
   ]
  },
  {
   "cell_type": "markdown",
   "id": "1ae02169-ce9b-47ff-8968-401b90023aff",
   "metadata": {
    "collapsed": false,
    "name": "semantic_questions_review"
   },
   "source": [
    "Examples of questions :\n",
    "\n",
    "what's the top 10 of customers who takes the longest to pay (clear a facture) on average ?"
   ]
  },
  {
   "cell_type": "markdown",
   "id": "d0e1d3ce-ffcf-4982-b5e6-f8c9dc2d152d",
   "metadata": {
    "collapsed": false,
    "name": "cell2"
   },
   "source": [
    "# Now Automate the transformations by using Dynamic Tables\n",
    "Take the above create statements and copy them here to make a dynamic table with a lag. When creating a dynamic table, you define a query that specifies how data should be transformed from base objects. Snowflake then handles the refresh schedule of the dynamic table, automatically updating it with changes made to the base objects based on the query."
   ]
  },
  {
   "cell_type": "markdown",
   "id": "a88bd444-6ae2-4965-bf8f-9f20997d5805",
   "metadata": {
    "collapsed": false,
    "name": "cell1"
   },
   "source": [
    "## Raw to Bronze"
   ]
  },
  {
   "cell_type": "code",
   "execution_count": null,
   "id": "96b7c898-6de4-4189-972d-47df1773d894",
   "metadata": {
    "language": "sql",
    "name": "FI_AR_4"
   },
   "outputs": [],
   "source": [
    "USE SCHEMA SAP_BRONZE;\n",
    "CREATE OR REPLACE DYNAMIC TABLE Dyn_FI_AR_4 (\n",
    "    SPECIAL_GL_INDICATOR VARCHAR(16777216),\n",
    "    DOCUMENT_TYPE VARCHAR(16777216),\n",
    "    POSTING_KEY VARCHAR(16777216),\n",
    "    FISCAL_VARIANT VARCHAR(16777216),\n",
    "    DOCUMENT_DATE TIMESTAMP_NTZ(9),\n",
    "    POSTING_DATE TIMESTAMP_NTZ(9),\n",
    "    ENTRY_DATE TIMESTAMP_NTZ(9),\n",
    "    CLEARING_DATE TIMESTAMP_NTZ(9),\n",
    "    LAST_CHANGE_DATE TIMESTAMP_NTZ(9),\n",
    "    NET_DUE_DATE TIMESTAMP_NTZ(9),\n",
    "    DISCOUNT_DATE_1 TIMESTAMP_NTZ(9),\n",
    "    PAYMENT_BLOCK VARCHAR(16777216),\n",
    "    PAYMENT_TERMS_GROUP VARCHAR(16777216),\n",
    "    DUNNING_BLOCK VARCHAR(16777216),\n",
    "    DUNNING_KEY VARCHAR(16777216),\n",
    "    DUNNING_LEVEL VARCHAR(16777216),\n",
    "    LOCAL_CURRENCY VARCHAR(16777216),\n",
    "    LOCAL_CURR_DEBIT FLOAT,\n",
    "    LOCAL_CURR_CREDIT FLOAT,\n",
    "    LOCAL_CURR_TAX FLOAT,\n",
    "    CASH_DISCOUNT_AMT FLOAT,\n",
    "    CURRENCY_CODE VARCHAR(16777216),\n",
    "    DISCOUNT_DATE_2 TIMESTAMP_NTZ(9),\n",
    "    BASELINE_DATE TIMESTAMP_NTZ(9),\n",
    "    CASH_DISC_DAYS_1 FLOAT,\n",
    "    CASH_DISC_DAYS_2 FLOAT,\n",
    "    NET_PAYMENT_DAYS FLOAT,\n",
    "    CASH_DISC_PERCENT_1 FLOAT,\n",
    "    CASH_DISC_PERCENT_2 FLOAT,\n",
    "    COUNTRY_CODE VARCHAR(16777216),\n",
    "    PAYMENT_METHOD VARCHAR(16777216),\n",
    "    PAYMENT_TERMS VARCHAR(16777216),\n",
    "    DOC_CURR_DEBIT FLOAT,\n",
    "    DOC_CURR_CREDIT FLOAT,\n",
    "    DOC_CURR_TAX FLOAT,\n",
    "    DISCOUNT_BASE_AMT FLOAT,\n",
    "    DOC_CURR_CASH_DISC FLOAT,\n",
    "    CHART_OF_ACCOUNTS VARCHAR(16777216),\n",
    "    GL_ACCOUNT VARCHAR(16777216),\n",
    "    GL_ACCOUNT_NUMBER VARCHAR(16777216),\n",
    "    CUSTOMER_SUB_ID VARCHAR(16777216),\n",
    "    CLEARING_DOC_NO VARCHAR(16777216),\n",
    "    SECOND_LOCAL_CURR VARCHAR(16777216),\n",
    "    THIRD_LOCAL_CURR VARCHAR(16777216),\n",
    "    POSTING_PERIOD VARCHAR(16777216),\n",
    "    PROJECT_CODE VARCHAR(16777216),\n",
    "    DEBIT_CREDIT_IND VARCHAR(16777216),\n",
    "    AMOUNT_IN_DOC_CURR FLOAT,\n",
    "    CHANGE_MODE VARCHAR(16777216),\n",
    "    ENTITY_COUNTER FLOAT,\n",
    "    DML_STATUS VARCHAR(16777216),\n",
    "    DELTA_TOKEN VARCHAR(16777216),\n",
    "    GLUE_FETCH_SEQ VARCHAR(16777216),\n",
    "    COMPANY_CODE VARCHAR(16777216),\n",
    "    FISCAL_PERIOD VARCHAR(16777216),\n",
    "    ACCOUNTING_DOC_NO VARCHAR(16777216),\n",
    "    LINE_ITEM_NO VARCHAR(16777216),\n",
    "    SUB_LEDGER_LINE_NO VARCHAR(16777216),\n",
    "    STATUS_PARK_SAVE VARCHAR(16777216),\n",
    "    CUSTOMER_ID VARCHAR(16777216),\n",
    "    CREDIT_CONTROL_AREA VARCHAR(16777216),\n",
    "    DUNNING_AREA VARCHAR(16777216),\n",
    "    ACCOUNT_TYPE VARCHAR(16777216),\n",
    "    REFERENCE_DOC_NO VARCHAR(16777216),\n",
    "    REFERENCE_DOC_NO_REV VARCHAR(16777216),\n",
    "    REFERENCE_FISCAL_YEAR VARCHAR(16777216),\n",
    "    REFERENCE_LINE_ITEM VARCHAR(16777216),\n",
    "    SALES_DOC_NO VARCHAR(16777216),\n",
    "    REFERENCE_KEY_1 VARCHAR(16777216),\n",
    "    REFERENCE_KEY_2 VARCHAR(16777216),\n",
    "    REFERENCE_KEY_3 VARCHAR(16777216),\n",
    "    LINE_ITEM_TEXT VARCHAR(16777216),\n",
    "    NEGATIVE_POSTING VARCHAR(16777216),\n",
    "    ARCHIVED_FLAG VARCHAR(16777216),\n",
    "    SPECIAL_GL_TYPE VARCHAR(16777216),\n",
    "    UPDATE_MODE VARCHAR(16777216),\n",
    "    ASSIGNMENT_NUMBER VARCHAR(16777216),\n",
    "    REFERENCE_TRANS_TYPE VARCHAR(16777216),\n",
    "    REFERENCE_KEY VARCHAR(16777216),\n",
    "    DOCUMENT_STATUS VARCHAR(16777216),\n",
    "    LOCAL_CURR_AMOUNT FLOAT,\n",
    "    SECOND_LOCAL_CURR_AMT FLOAT,\n",
    "    THIRD_LOCAL_CURR_AMT FLOAT,\n",
    "    FISCAL_YEAR VARCHAR(16777216)\n",
    ")\n",
    "TARGET_LAG = DOWNSTREAM\n",
    "WAREHOUSE = COMPUTE_WH\n",
    "REFRESH_MODE = AUTO\n",
    "\n",
    "AS\n",
    "\n",
    "SELECT \n",
    "    UMSKZ,\n",
    "    BLART,\n",
    "    BSCHL,\n",
    "    FISCVAR,\n",
    "    BLDAT,\n",
    "    BUDAT,\n",
    "    CPUDT,\n",
    "    AUGDT,\n",
    "    MADAT,\n",
    "    NETDT,\n",
    "    SK1DT,\n",
    "    ZLSPR,\n",
    "    RSTGR,\n",
    "    MANSP,\n",
    "    MSCHL,\n",
    "    MANST,\n",
    "    LCURR,\n",
    "    DMSOL,\n",
    "    DMHAB,\n",
    "    DMSHB,\n",
    "    SKNTO,\n",
    "    WAERS,\n",
    "    SK2DT,\n",
    "    ZFBDT,\n",
    "    ZBD1T,\n",
    "    ZBD2T,\n",
    "    ZBD3T,\n",
    "    ZBD1P,\n",
    "    ZBD2P,\n",
    "    LAND1,\n",
    "    ZLSCH,\n",
    "    ZTERM,\n",
    "    WRSOL,\n",
    "    WRHAB,\n",
    "    WRSHB,\n",
    "    SKFBT,\n",
    "    WSKTO,\n",
    "    KTOPL,\n",
    "    HKONT,\n",
    "    SAKNR,\n",
    "    FILKD,\n",
    "    AUGBL,\n",
    "    HWAE2,\n",
    "    HWAE3,\n",
    "    MONAT,\n",
    "    PROJK,\n",
    "    SHKZG,\n",
    "    WRBTR,\n",
    "    ODQ_CHANGEMODE,\n",
    "    ODQ_ENTITYCNTR,\n",
    "    DML_STATUS,\n",
    "    DELTA_TOKEN,\n",
    "    GLUE_FETCH_SQ,\n",
    "    BUKRS,\n",
    "    FISCPER,\n",
    "    BELNR,\n",
    "    BUZEI,\n",
    "    UPOSZ,\n",
    "    STATUSPS,\n",
    "    KUNNR,\n",
    "    KKBER,\n",
    "    MABER,\n",
    "    KOART,\n",
    "    XBLNR,\n",
    "    REBZG,\n",
    "    REBZJ,\n",
    "    REBZZ,\n",
    "    VBELN,\n",
    "    XREF1,\n",
    "    XREF2,\n",
    "    XREF3,\n",
    "    SGTXT,\n",
    "    XNEGP,\n",
    "    XARCH,\n",
    "    UMSKS,\n",
    "    UPDMOD,\n",
    "    ZUONR,\n",
    "    AWTYP,\n",
    "    AWKEY,\n",
    "    BSTAT,\n",
    "    DMBTR,\n",
    "    DMBE2,\n",
    "    DMBE3,\n",
    "    GJAHR\n",
    "FROM SAP_RAW.FI_AR_4;\n"
   ]
  },
  {
   "cell_type": "code",
   "execution_count": null,
   "id": "0e4c3995-6be6-49ca-bb64-01bcf2e3265e",
   "metadata": {
    "language": "sql",
    "name": "Customer"
   },
   "outputs": [],
   "source": [
    "USE SCHEMA SAP_BRONZE;\n",
    "CREATE OR REPLACE DYNAMIC TABLE Dyn_CUSTOMER (\n",
    "    TAX_NUMBER_1 VARCHAR(16777216),\n",
    "    ACCOUNT_NUMBER VARCHAR(16777216),\n",
    "    STATE_TAX_NUMBER VARCHAR(16777216),\n",
    "    REGION VARCHAR(16777216),\n",
    "    STREET_ADDRESS VARCHAR(16777216),\n",
    "    PHONE_NUMBER VARCHAR(16777216),\n",
    "    CUSTOMER_ID VARCHAR(16777216),\n",
    "    COUNTRY_CODE VARCHAR(16777216),\n",
    "    COMPANY_NAME VARCHAR(16777216),\n",
    "    COMPANY_NAME_2 VARCHAR(16777216),\n",
    "    CITY VARCHAR(16777216),\n",
    "    POSTAL_CODE VARCHAR(16777216),\n",
    "    ACCOUNTING_START_DATE TIMESTAMP_NTZ(9),\n",
    "    CHANGE_MODE VARCHAR(16777216),\n",
    "    ENTITY_COUNTER FLOAT,\n",
    "    DATA_STATUS VARCHAR(16777216),\n",
    "    LOCAL_TAX_NUMBER VARCHAR(16777216),\n",
    "    LAST_ACCOUNTING_DATE TIMESTAMP_NTZ(9),\n",
    "    BUSINESS_TYPE VARCHAR(16777216),\n",
    "    ANNUAL_REVENUE FLOAT,\n",
    "    DELTA_TOKEN VARCHAR(16777216),\n",
    "    FETCH_SEQUENCE VARCHAR(16777216)\n",
    ")\n",
    "TARGET_LAG = DOWNSTREAM\n",
    "WAREHOUSE = COMPUTE_WH\n",
    "REFRESH_MODE = AUTO\n",
    "\n",
    "AS\n",
    "SELECT \n",
    "    UWAER as TAX_NUMBER_1,\n",
    "    JMZAH as ACCOUNT_NUMBER,\n",
    "    J_1ICSTNO as STATE_TAX_NUMBER,\n",
    "    REGIO as REGION,\n",
    "    STRAS as STREET_ADDRESS,\n",
    "    TELF1 as PHONE_NUMBER,\n",
    "    KUNNR as CUSTOMER_ID,\n",
    "    LAND1 as COUNTRY_CODE,\n",
    "    NAME1 as COMPANY_NAME,\n",
    "    NAME2 as COMPANY_NAME_2,\n",
    "    ORT01 as CITY,\n",
    "    PSTLZ as POSTAL_CODE,\n",
    "    J_3GAABRECH as ACCOUNTING_START_DATE,\n",
    "    ODQ_CHANGEMODE as CHANGE_MODE,\n",
    "    ODQ_ENTITYCNTR as ENTITY_COUNTER,\n",
    "    DML_STATUS as DATA_STATUS,\n",
    "    J_1ILSTNO as LOCAL_TAX_NUMBER,\n",
    "    J_3GLABRECH as LAST_ACCOUNTING_DATE,\n",
    "    BRSCH as BUSINESS_TYPE,\n",
    "    UMSAT as ANNUAL_REVENUE,\n",
    "    DELTA_TOKEN,\n",
    "    GLUE_FETCH_SQ as FETCH_SEQUENCE\n",
    "FROM SAP_RAW.CUSTOMER;"
   ]
  },
  {
   "cell_type": "code",
   "execution_count": null,
   "id": "663e0369-ee1e-4c42-9bd4-e54e23753ebf",
   "metadata": {
    "language": "sql",
    "name": "material"
   },
   "outputs": [],
   "source": [
    "\n",
    "CREATE OR REPLACE DYNAMIC TABLE DYN_MATERIAL (\n",
    "    IS_BATCH_MANAGED VARCHAR(16777216),\n",
    "    IS_CROSS_PLANT_CONFIGURABLE VARCHAR(16777216),\n",
    "    PRODUCT_CATEGORY VARCHAR(16777216),\n",
    "    PRODUCT_CHARACTERISTIC_1 VARCHAR(16777216),\n",
    "    MATERIAL_GROUP VARCHAR(16777216),\n",
    "    BASE_UNIT VARCHAR(16777216),\n",
    "    WEIGHT_UNIT VARCHAR(16777216),\n",
    "    CHANGE_MODE VARCHAR(16777216),\n",
    "    ENTITY_COUNTER FLOAT,\n",
    "    STATUS VARCHAR(16777216),\n",
    "    DELTA_TOKEN VARCHAR(16777216),\n",
    "    FETCH_SEQUENCE VARCHAR(16777216),\n",
    "    MATERIAL_CODE VARCHAR(16777216),\n",
    "    MATERIAL_TYPE VARCHAR(16777216),\n",
    "    MANUFACTURER_NUMBER VARCHAR(16777216),\n",
    "    MANUFACTURER_PART_NUMBER VARCHAR(16777216),\n",
    "    AUTH_GROUP VARCHAR(16777216),\n",
    "    PRODUCT_CHARACTERISTIC_2 VARCHAR(16777216),\n",
    "    PRODUCT_CHARACTERISTIC_3 VARCHAR(16777216)\n",
    ") \n",
    "TARGET_LAG = DOWNSTREAM\n",
    "WAREHOUSE = COMPUTE_WH\n",
    "REFRESH_MODE = AUTO\n",
    "\n",
    "AS \n",
    "SELECT \n",
    "    ISBATCHMANAGEMENTREQUIRED,\n",
    "    CROSSPLANTCONFIGURABLEPRODUCT,\n",
    "    PRODUCTCATEGORY,\n",
    "    PRODCHARC1INTERNALNUMBER,\n",
    "    MATERIALGROUP,\n",
    "    MATERIALBASEUNIT,\n",
    "    MATERIALWEIGHTUNIT,\n",
    "    ODQ_CHANGEMODE,\n",
    "    ODQ_ENTITYCNTR,\n",
    "    DML_STATUS,\n",
    "    DELTA_TOKEN,\n",
    "    GLUE_FETCH_SQ,\n",
    "    MATERIAL,\n",
    "    MATERIALTYPE,\n",
    "    MATERIALMANUFACTURERNUMBER,\n",
    "    MATERIALMANUFACTURERPARTNUMBER,\n",
    "    AUTHORIZATIONGROUP,\n",
    "    PRODCHARC2INTERNALNUMBER,\n",
    "    PRODCHARC3INTERNALNUMBER\n",
    "FROM SAP_RAW.MATERIAL;"
   ]
  },
  {
   "cell_type": "markdown",
   "id": "36f83572-7e15-4cf9-b398-4edd0aea30c0",
   "metadata": {
    "collapsed": false,
    "name": "cell3"
   },
   "source": [
    "## Bronze to Gold"
   ]
  },
  {
   "cell_type": "code",
   "execution_count": null,
   "id": "ed82ceda-eed8-4bbd-895d-ebfdcee30aa1",
   "metadata": {
    "language": "sql",
    "name": "AR_Mart"
   },
   "outputs": [],
   "source": [
    "CREATE OR REPLACE DYNAMIC TABLE SAP_GOLD.DYN_ACCOUNTS_RECEIVABLE_MART \n",
    "\n",
    "TARGET_LAG ='60 seconds'\n",
    "WAREHOUSE = COMPUTE_WH\n",
    "REFRESH_MODE = AUTO\n",
    "\n",
    "AS\n",
    "SELECT \n",
    "    -- Document Information\n",
    "    ar.ACCOUNTING_DOC_NO,\n",
    "    ar.DOCUMENT_TYPE,\n",
    "    ar.LINE_ITEM_NO,\n",
    "    ar.REFERENCE_DOC_NO,\n",
    "    ar.SALES_DOC_NO,\n",
    "\n",
    "    -- Customer Information\n",
    "    ar.CUSTOMER_ID,\n",
    "    c.COMPANY_NAME as CUSTOMER_NAME,\n",
    "    c.COUNTRY_CODE,\n",
    "    c.REGION,\n",
    "    --c.BUSINESS_SECTOR,\n",
    "\n",
    "    -- Dates\n",
    "    ar.DOCUMENT_DATE,\n",
    "    ar.POSTING_DATE,\n",
    "    ar.CLEARING_DATE,\n",
    "    ar.NET_DUE_DATE,\n",
    "    ar.BASELINE_DATE,\n",
    "\n",
    "    -- Amount Fields\n",
    "    --ar.AMOUNT_DOC_CURR,\n",
    "    ar.LOCAL_CURR_AMOUNT,\n",
    "    ar.LOCAL_CURR_DEBIT,\n",
    "    ar.LOCAL_CURR_CREDIT,\n",
    "    ar.CURRENCY_CODE,\n",
    "\n",
    "    -- Payment Terms and Status\n",
    "    ar.PAYMENT_TERMS,\n",
    "    ar.NET_PAYMENT_DAYS,\n",
    "    --ar.STATUS_PAYMENT,\n",
    "    ar.PAYMENT_BLOCK,\n",
    "\n",
    "    -- Additional Fields for Analysis\n",
    "    ar.FISCAL_YEAR,\n",
    "    ar.FISCAL_PERIOD,\n",
    "    ar.COMPANY_CODE,\n",
    "    ar.DEBIT_CREDIT_IND,\n",
    "    ar.DOCUMENT_STATUS\n",
    "\n",
    "FROM SAP_BRONZE.Dyn_FI_AR_4 ar\n",
    "LEFT JOIN SAP_BRONZE.Dyn_CUSTOMER c \n",
    "    ON ar.CUSTOMER_ID = c.CUSTOMER_ID;"
   ]
  },
  {
   "cell_type": "markdown",
   "id": "d1d3a282-4b05-4756-a753-d70b9b922d36",
   "metadata": {
    "collapsed": false,
    "name": "shutdown_md"
   },
   "source": [
    "Remember to suspend your pipes and dynamic tables to reduce costs"
   ]
  },
  {
   "cell_type": "code",
   "execution_count": null,
   "id": "13a674b2-3bac-4ba3-9fef-d4e4ac4f5bf5",
   "metadata": {
    "language": "sql",
    "name": "cell4"
   },
   "outputs": [],
   "source": [
    "ALTER DYNAMIC TABLE IF EXISTS SAP_GOLD.DYN_ACCOUNTS_RECEIVABLE_MART SUSPEND;\n",
    "ALTER DYNAMIC TABLE IF EXISTS SAP_BRONZE.DYN_MATERIAL SUSPEND;\n",
    "ALTER DYNAMIC TABLE IF EXISTS SAP_BRONZE.CUSTOMER SUSPEND;\n",
    "ALTER DYNAMIC TABLE IF EXISTS SAP_BRONZE.FI_AR_4 SUSPEND;\n",
    "\n",
    "ALTER PIPE SAP_RAW.FI_AR_4_PIPE SET PIPE_EXECUTION_PAUSED = TRUE;\n",
    "ALTER PIPE SAP_RAW.CUSTOMER_PIPE SET PIPE_EXECUTION_PAUSED = TRUE;\n",
    "ALTER PIPE SAP_RAW.MATERIAL_PIPE SET PIPE_EXECUTION_PAUSED = TRUE;\n",
    "\n"
   ]
  }
 ],
 "metadata": {
  "kernelspec": {
   "display_name": "Streamlit Notebook",
   "name": "streamlit"
  },
  "lastEditStatus": {
   "authorEmail": "david.richert@snowflake.com",
   "authorId": "221701842710",
   "authorName": "JOHN",
   "lastEditTime": 1750254457755,
   "notebookId": "7ypdguynnijj3d4pkw5n",
   "sessionId": "16ab3ce8-f595-4bb9-808e-17c304505881"
  }
 },
 "nbformat": 4,
 "nbformat_minor": 5
}
